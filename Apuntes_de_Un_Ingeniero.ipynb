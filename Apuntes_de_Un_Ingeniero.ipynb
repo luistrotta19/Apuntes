{
 "cells": [
  {
   "cell_type": "markdown",
   "metadata": {},
   "source": [
    "##### https://www.youtube.com/watch?v=ZHH3PHwa8Yw&list=PLygvT9FY2jClXD10l8RS3JNVybu58__n5&index=34"
   ]
  },
  {
   "cell_type": "code",
   "execution_count": null,
   "metadata": {},
   "outputs": [],
   "source": []
  },
  {
   "cell_type": "code",
   "execution_count": null,
   "metadata": {},
   "outputs": [],
   "source": [
    "print ('hola')\n",
    "print('gggmmmmm')"
   ]
  },
  {
   "cell_type": "code",
   "execution_count": null,
   "metadata": {},
   "outputs": [],
   "source": [
    "print('que pasoooo  con estoooo')"
   ]
  },
  {
   "cell_type": "markdown",
   "metadata": {},
   "source": [
    "#### Gracias Jesús"
   ]
  },
  {
   "cell_type": "markdown",
   "metadata": {},
   "source": [
    "#### Secuencias\n",
    " PS C:\\Users\\thinkpad\\OneDrive\\Escritorio\\pandas\\Apuntes_Ingeniero> \n",
    " <p style= \"color: red\" >git status -s </p>\n",
    " M Apuntes_de_Un_Ingeniero.ipynb \n",
    "\n",
    "PS C:\\Users\\thinkpad\\OneDrive\\Escritorio\\pandas\\Apuntes_Ingeniero> \n",
    "<p style= \"color: blue\" >git add . </p> (solo la primera vez)\n",
    "\n",
    "PS C:\\Users\\thinkpad\\OneDrive\\Escritorio\\pandas\\Apuntes_Ingeniero> git status -s\n",
    "<p style= \"color: orange\" >git status -s </p>\n",
    "\n",
    "PS C:\\Users\\thinkpad\\OneDrive\\Escritorio\\pandas\\Apuntes_Ingeniero> git commit -m \"holaaaa\"\n",
    "<p style= \"color: orange\" >git commit -m \"holaaaa\" </p>\n",
    "\n",
    "\n",
    "PS C:\\Users\\thinkpad\\OneDrive\\Escritorio\\pandas\\Apuntes_Ingeniero> \n",
    "<p style= \"color: orange\" >git push </p>\n",
    "\n",
    "Enumerating objects: 5, done.\n",
    "Counting objects: 100% (5/5), done.\n",
    "Delta compression using up to 4 threads\n",
    "Compressing objects: 100% (3/3), done.\n",
    "Writing objects: 100% (3/3), 346 bytes | 346.00 KiB/s, done.\n",
    "Total 3 (delta 1), reused 0 (delta 0), pack-reused 0\n",
    "remote: Resolving deltas: 100% (1/1), completed with 1 local object.\n",
    "To https://github.com/luistrotta19/Apuntes.git\n",
    "   f4fc639..e0b76a3  main -> main\n",
    "\n",
    "PS C:\\Users\\thinkpad\\OneDrive\\Escritorio\\pandas\\Apuntes_Ingeniero> git commit -m \"holaaaa\"\n",
    " *  History restored \n",
    "\n",
    " M Apuntes_de_Un_Ingeniero.ipynb\n",
    "warning: LF will be replaced by CRLF in Apuntes_de_Un_Ingeniero.ipynb.\n",
    "The file will have its original line endings in your working directory\n",
    "PS C:\\Users\\thinkpad\\OneDrive\\Escritorio\\pandas\\Apuntes_Ingeniero> git status -s\n",
    "M  Apuntes_de_Un_Ingeniero.ipynb\n",
    "PS C:\\Users\\thinkpad\\OneDrive\\Escritorio\\pandas\\Apuntes_Ingeniero> git commit -m \"gracias\"\n",
    "[main 7049703] gracias\n",
    " 1 file changed, 9 insertions(+), 10 deletions(-)\n",
    "PS C:\\Users\\thinkpad\\OneDrive\\Escritorio\\pandas\\Apuntes_Ingeniero> git status -s\n",
    "\n",
    "PS C:\\Users\\thinkpad\\OneDrive\\Escritorio\\pandas\\Apuntes_Ingeniero> git push\n",
    "Enumerating objects: 5, done.\n",
    "Counting objects: 100% (5/5), done.\n",
    "Delta compression using up to 4 threads\n",
    "Compressing objects: 100% (3/3), done.\n",
    "Writing objects: 100% (3/3), 366 bytes | 366.00 KiB/s, done.\n",
    "Total 3 (delta 1), reused 0 (delta 0), pack-reused 0\n",
    "remote: Resolving deltas: 100% (1/1), completed with 1 local object.\n",
    "To https://github.com/luistrotta19/Apuntes.git\n",
    "   e0b76a3..7049703  main -> main\n",
    "PS C:\\Users\\thinkpad\\OneDrive\\Escritorio\\pandas\\Apuntes_Ingeniero> "
   ]
  },
  {
   "cell_type": "markdown",
   "metadata": {},
   "source": [
    "###### ejercicio 37"
   ]
  }
 ],
 "metadata": {
  "kernelspec": {
   "display_name": "Python 3.10.7 64-bit",
   "language": "python",
   "name": "python3"
  },
  "language_info": {
   "codemirror_mode": {
    "name": "ipython",
    "version": 3
   },
   "file_extension": ".py",
   "mimetype": "text/x-python",
   "name": "python",
   "nbconvert_exporter": "python",
   "pygments_lexer": "ipython3",
   "version": "3.10.7"
  },
  "orig_nbformat": 4,
  "vscode": {
   "interpreter": {
    "hash": "66953ef1485e130ffcd4117c5ef2c4af32aa8fc80996e9f954c0fe3db82fe14e"
   }
  }
 },
 "nbformat": 4,
 "nbformat_minor": 2
}
