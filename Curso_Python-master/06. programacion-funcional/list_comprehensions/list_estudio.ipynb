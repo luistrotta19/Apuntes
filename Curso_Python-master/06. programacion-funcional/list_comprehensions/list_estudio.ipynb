{
 "cells": [
  {
   "cell_type": "markdown",
   "metadata": {},
   "source": [
    "##### video 52:video 52 List_comprehensions: https://www.youtube.com/watch?v=rrPv6PY39Ws&list=PLygvT9FY2jClXD10l8RS3JNVybu58__n5&index=52"
   ]
  },
  {
   "cell_type": "code",
   "execution_count": 1,
   "metadata": {},
   "outputs": [
    {
     "name": "stdout",
     "output_type": "stream",
     "text": [
      "Lista pares con list comprehensions -> [0, 4, 16, 36, 64]\n"
     ]
    }
   ],
   "source": [
    "lista_pares = []\n",
    "lista_pares = [numero * numero for numero in range(10) if numero % 2 == 0]\n",
    "print(f'Lista pares con list comprehensions -> {lista_pares}')"
   ]
  },
  {
   "cell_type": "markdown",
   "metadata": {},
   "source": [
    "##### video 53 : https://www.youtube.com/watch?v=Dn9aSsW8ZB0&list=PLygvT9FY2jClXD10l8RS3JNVybu58__n5&index=53"
   ]
  }
 ],
 "metadata": {
  "kernelspec": {
   "display_name": "Python 3.10.7 64-bit",
   "language": "python",
   "name": "python3"
  },
  "language_info": {
   "codemirror_mode": {
    "name": "ipython",
    "version": 3
   },
   "file_extension": ".py",
   "mimetype": "text/x-python",
   "name": "python",
   "nbconvert_exporter": "python",
   "pygments_lexer": "ipython3",
   "version": "3.10.7"
  },
  "orig_nbformat": 4,
  "vscode": {
   "interpreter": {
    "hash": "66953ef1485e130ffcd4117c5ef2c4af32aa8fc80996e9f954c0fe3db82fe14e"
   }
  }
 },
 "nbformat": 4,
 "nbformat_minor": 2
}
