{
 "cells": [
  {
   "cell_type": "markdown",
   "metadata": {},
   "source": [
    "##### video 52: List_comprehensions: https://www.youtube.com/watch?v=rrPv6PY39Ws&list=PLygvT9FY2jClXD10l8RS3JNVybu58__n5&index=52"
   ]
  },
  {
   "cell_type": "markdown",
   "metadata": {},
   "source": [
    "lista_pares = []\n",
    "lista_pares = [numero * numero for numero in range(10) if numero % 2 == 0]\n",
    "print(f'Lista pares con list comprehensions -> {lista_pares}')"
   ]
  },
  {
   "cell_type": "markdown",
   "metadata": {},
   "source": [
    "##### video 53 : https://www.youtube.com/watch?v=Dn9aSsW8ZB0&list=PLygvT9FY2jClXD10l8RS3JNVybu58__n5&index=53"
   ]
  },
  {
   "cell_type": "code",
   "execution_count": null,
   "metadata": {},
   "outputs": [],
   "source": [
    "# Crear un script en Python que permita agregar a una lista o un\n",
    "# vector los números que sean divisibles entre 2 y entre 6 en un\n",
    "# rango especificado por el usuario (a, b), esto utilizando list comprehensions.\n",
    "\n",
    "# Realizando el ejercicio sin list comprehensions.\n",
    "A = int(input('Ingrese el límite inferior del rango '))  # 4\n",
    "B = int(input('Ingrese el límite superior del rango '))  # 30\n",
    "vector = []\n",
    "\n",
    "for i in range(A, B, 1):\n",
    "    if i % 2 == 0 and i % 6 == 0:\n",
    "        vector.append(i)\n",
    "\n",
    "print(\n",
    "    f'Vector números divisibles entre 2 y 6 en un rango {A}, {B} -> {vector}')"
   ]
  },
  {
   "cell_type": "code",
   "execution_count": null,
   "metadata": {},
   "outputs": [],
   "source": [
    "# Solución del ejercicio empleando List Comprehensions\n",
    "vector = [numero for numero in range(\n",
    "    A, B, 1) if numero % 2 == 0 if numero % 6 == 0]\n",
    "print(\n",
    "    f'LVector números divisibles entre 2 y 6 en un rango {A}, {B} -> {vector}')\n"
   ]
  },
  {
   "cell_type": "markdown",
   "metadata": {},
   "source": [
    "###### Listas Anidadas Video 54: https://www.youtube.com/watch?v=bBK0L6oz5Jw&list=PLygvT9FY2jClXD10l8RS3JNVybu58__n5&index=54\n",
    "\n",
    "#### 8:53\n",
    "\n",
    "### Para comentar muchas lineas con # Ctrl + k + c // Para descomentarlas Ctrl + k + u"
   ]
  }
 ],
 "metadata": {
  "kernelspec": {
   "display_name": "Python 3.10.7 64-bit",
   "language": "python",
   "name": "python3"
  },
  "language_info": {
   "codemirror_mode": {
    "name": "ipython",
    "version": 3
   },
   "file_extension": ".py",
   "mimetype": "text/x-python",
   "name": "python",
   "nbconvert_exporter": "python",
   "pygments_lexer": "ipython3",
   "version": "3.10.7 (tags/v3.10.7:6cc6b13, Sep  5 2022, 14:08:36) [MSC v.1933 64 bit (AMD64)]"
  },
  "orig_nbformat": 4,
  "vscode": {
   "interpreter": {
    "hash": "66953ef1485e130ffcd4117c5ef2c4af32aa8fc80996e9f954c0fe3db82fe14e"
   }
  }
 },
 "nbformat": 4,
 "nbformat_minor": 2
}
