{
 "cells": [
  {
   "cell_type": "markdown",
   "metadata": {},
   "source": [
    "### Estudio Generadores  11:12"
   ]
  },
  {
   "cell_type": "markdown",
   "metadata": {},
   "source": [
    "##### Video Generadores : https://www.youtube.com/watch?v=Ccv50IvQe5I&list=PLygvT9FY2jClXD10l8RS3JNVybu58__n5&index=49"
   ]
  },
  {
   "cell_type": "markdown",
   "metadata": {},
   "source": [
    "####  Libro Python:  https://ellibrodepython.com/yield-python#creando-generadores"
   ]
  },
  {
   "cell_type": "markdown",
   "metadata": {},
   "source": [
    "\n",
    "def generador():\n",
    "    yield 1\n",
    "    print('Reanudando la ejecución')\n",
    "    print('pescado')\n",
    "    yield 2\n",
    "    valor1 = 5\n",
    "    valor2 = 7\n",
    "    suma = valor1 + valor2\n",
    "    yield suma\n",
    "\n",
    "gen = generador()\n",
    "print(type(gen))\n",
    "print(next(gen))\n",
    "print(next(gen))\n",
    "print(next(gen))\n",
    "\n",
    "for valor in generador():\n",
    "    print(f'Valor devuelto {valor} ')\n"
   ]
  },
  {
   "cell_type": "markdown",
   "metadata": {},
   "source": [
    "###### parte 2: https://www.youtube.com/watch?v=UbaH89D7wxs&list=PLygvT9FY2jClXD10l8RS3JNVybu58__n5&index=51"
   ]
  },
  {
   "cell_type": "code",
   "execution_count": 4,
   "metadata": {},
   "outputs": [
    {
     "name": "stdout",
     "output_type": "stream",
     "text": [
      "Número producido -> 0\n",
      "Número producido -> 1\n"
     ]
    }
   ],
   "source": [
    "rango = int(input('Ingrese el rango de números a generar. '))  # 5\n",
    "\n",
    "# Creando el generador de n números\n",
    "def generador_numeros(rango):\n",
    "    for numero in range(rango):\n",
    "        yield numero\n",
    "\n",
    "\n",
    "# Consumiendo el generador\n",
    "for valor in generador_numeros(rango):\n",
    "        print(f'Número producido -> {valor}')"
   ]
  }
 ],
 "metadata": {
  "kernelspec": {
   "display_name": "Python 3.10.7 64-bit",
   "language": "python",
   "name": "python3"
  },
  "language_info": {
   "codemirror_mode": {
    "name": "ipython",
    "version": 3
   },
   "file_extension": ".py",
   "mimetype": "text/x-python",
   "name": "python",
   "nbconvert_exporter": "python",
   "pygments_lexer": "ipython3",
   "version": "3.10.7"
  },
  "orig_nbformat": 4,
  "vscode": {
   "interpreter": {
    "hash": "66953ef1485e130ffcd4117c5ef2c4af32aa8fc80996e9f954c0fe3db82fe14e"
   }
  }
 },
 "nbformat": 4,
 "nbformat_minor": 2
}
