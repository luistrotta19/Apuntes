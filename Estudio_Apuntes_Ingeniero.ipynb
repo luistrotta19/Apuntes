{
 "cells": [
  {
   "cell_type": "markdown",
   "metadata": {},
   "source": [
    "#### Filter video 55 : https://www.youtube.com/watch?v=W9Bn4Dk0LOA&list=PLygvT9FY2jClXD10l8RS3JNVybu58__n5&index=55"
   ]
  },
  {
   "cell_type": "code",
   "execution_count": 4,
   "metadata": {},
   "outputs": [
    {
     "data": {
      "text/plain": [
       "[0, 2, 4, 6, 8]"
      ]
     },
     "execution_count": 4,
     "metadata": {},
     "output_type": "execute_result"
    }
   ],
   "source": [
    "\n",
    "numeros = [0, 1, 2, 3, 4, 5, 6, 7, 8, 9]\n",
    "resultado = filter (lambda x: x % 2== 0, numeros)\n",
    "list(resultado)"
   ]
  },
  {
   "attachments": {},
   "cell_type": "markdown",
   "metadata": {},
   "source": [
    "[video 56](https://www.youtube.com/watch?v=Kx4fBatxIZ8&list=PLygvT9FY2jClXD10l8RS3JNVybu58__n5&index=56)"
   ]
  },
  {
   "cell_type": "code",
   "execution_count": null,
   "metadata": {},
   "outputs": [],
   "source": [
    "re=[]\n",
    "cant =  int(input('Ingrese la cantidad de nombres'))\n",
    "filt = str(input('ingrese el literal a filtrar'))\n",
    "\n",
    "\n",
    "nombre = str(input('ingrese los nombres'))\n",
    "re = filter(lambda nombre: 'nombre'.startswith(filt),re)\n",
    "\n",
    "\n",
    "list(re)\n"
   ]
  },
  {
   "cell_type": "markdown",
   "metadata": {},
   "source": [
    "######  video 57 : https://www.youtube.com/watch?v=Pegd4rPPvDc&list=PLygvT9FY2jClXD10l8RS3JNVybu58__n5&index=57"
   ]
  }
 ],
 "metadata": {
  "kernelspec": {
   "display_name": "Python 3.10.7 64-bit",
   "language": "python",
   "name": "python3"
  },
  "language_info": {
   "codemirror_mode": {
    "name": "ipython",
    "version": 3
   },
   "file_extension": ".py",
   "mimetype": "text/x-python",
   "name": "python",
   "nbconvert_exporter": "python",
   "pygments_lexer": "ipython3",
   "version": "3.10.7"
  },
  "orig_nbformat": 4,
  "vscode": {
   "interpreter": {
    "hash": "66953ef1485e130ffcd4117c5ef2c4af32aa8fc80996e9f954c0fe3db82fe14e"
   }
  }
 },
 "nbformat": 4,
 "nbformat_minor": 2
}
