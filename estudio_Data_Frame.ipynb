{
 "cells": [
  {
   "cell_type": "markdown",
   "metadata": {},
   "source": [
    "##### https://es.stackoverflow.com/questions/363683/hacer-f%C3%B3rmula-recorriendo-un-dataframe-en-python-con-pandas"
   ]
  },
  {
   "cell_type": "code",
   "execution_count": null,
   "metadata": {},
   "outputs": [],
   "source": [
    "import io\n",
    "import pandas as pd\n",
    "import numpy as np\n",
    "\n",
    "\n",
    "data = io.StringIO((\n",
    "   \"CADERA X,CADERA Y,RODILLA X,RODILLA Y,TOBILLO X,TOBILLO Y\\n\"\n",
    "   \"0.0,0.0,0.0,0.0,0.0,0.0\\n\"\n",
    "   \"0.0,0.92,0.23,0.69,-0.23,0.46\\n\"\n",
    "   \"-0.23,3.90,0.23,1.61,-0.92,1.15\\n\"\n",
    "   \"-0.69,5.51,0.0,2.99,-1.84,2.30\\n\")\n",
    "   )\n",
    "\n",
    "df = pd.read_csv(data)"
   ]
  },
  {
   "cell_type": "code",
   "execution_count": null,
   "metadata": {},
   "outputs": [],
   "source": [
    "results = (\n",
    "    np.sqrt(\n",
    "        (df[\"CADERA X\"] - df[\"TOBILLO X\"]) ** 2 +\n",
    "        (df[\"CADERA Y\"] - df[\"TOBILLO Y\"]) ** 2)\n",
    "    )"
   ]
  },
  {
   "cell_type": "code",
   "execution_count": null,
   "metadata": {},
   "outputs": [],
   "source": [
    "results"
   ]
  },
  {
   "cell_type": "code",
   "execution_count": null,
   "metadata": {},
   "outputs": [],
   "source": [
    "for result in results: \n",
    "        print(f\"El resultado es: {result}\")"
   ]
  },
  {
   "cell_type": "code",
   "execution_count": null,
   "metadata": {},
   "outputs": [],
   "source": [
    "df[\"results\"] = (\n",
    "    np.sqrt(\n",
    "        (df[\"CADERA X\"] - df[\"TOBILLO X\"]) ** 2 +\n",
    "        (df[\"CADERA Y\"] - df[\"TOBILLO Y\"]) ** 2)\n",
    "    )"
   ]
  },
  {
   "cell_type": "code",
   "execution_count": null,
   "metadata": {},
   "outputs": [],
   "source": [
    "df"
   ]
  },
  {
   "cell_type": "code",
   "execution_count": null,
   "metadata": {},
   "outputs": [],
   "source": [
    "df[\"results\"] = (\n",
    "    np.sqrt(\n",
    "        (df.iloc[0: 273, 0] - df.iloc[0: 273, 4]) ** 2 +\n",
    "        (df.iloc[0: 273, 1] - df.iloc[0: 273, 5]) ** 2)\n",
    "    )"
   ]
  },
  {
   "cell_type": "code",
   "execution_count": null,
   "metadata": {},
   "outputs": [],
   "source": [
    "df"
   ]
  },
  {
   "cell_type": "code",
   "execution_count": null,
   "metadata": {},
   "outputs": [],
   "source": [
    "Total = df['CADERA Y'].sum()\n",
    "print (\"Column 2 sum:\",Total)"
   ]
  },
  {
   "cell_type": "code",
   "execution_count": null,
   "metadata": {},
   "outputs": [],
   "source": [
    "df.to_excel('ejemplo.xlsx')"
   ]
  },
  {
   "cell_type": "markdown",
   "metadata": {},
   "source": [
    "##### https://es.stackoverflow.com/questions/491174/agregar-una-fila-a-un-dataframe-con-las-sumas-de-algunas-columnas"
   ]
  },
  {
   "cell_type": "code",
   "execution_count": null,
   "metadata": {},
   "outputs": [],
   "source": [
    "import pandas as pd\n",
    "import numpy as np\n",
    "\n",
    "df = pd.DataFrame({'Inter1': {0: pd.Interval(1.0, 2.0, closed='left'),\n",
    "                                  1: pd.Interval(2.0, 3.0, closed='left')},\n",
    "                       'Inter2': {0: pd.Interval(1.0, 2.0, closed='both'),\n",
    "                                  1: pd.Interval(2.0, 3.0, closed='both')},\n",
    "                       'Inter3': {0: pd.Interval(1.0, 2.0, closed='both'),\n",
    "                                  1: pd.Interval(2.0, 3.0, closed='both')},\n",
    "                       'Xi': {0: 1, 1: 2},\n",
    "                       'Fi': {0: 3, 1: 4}})\n",
    "df\n",
    "\n",
    "df.loc[len(df)+1, \"Xi\":\"Fi\"] = df.loc[:,\"Xi\":\"Fi\"].sum()\n",
    "\n",
    "#len(df)\n",
    "\n",
    "df"
   ]
  },
  {
   "cell_type": "markdown",
   "metadata": {},
   "source": [
    "##### Comleto DataFrame  como agregar filas y columnas y hacer operaciones!\n",
    "##### https://www.youtube.com/watch?v=bmM_RhjuT3k\n"
   ]
  },
  {
   "cell_type": "code",
   "execution_count": null,
   "metadata": {},
   "outputs": [],
   "source": [
    "import pandas as pd\n",
    "import numpy as np\n",
    "df = pd.DataFrame({'a':[10,20],'b':[1,2], 'c': [2,4]})\n",
    "df.loc['Total por columna'] = df.sum(axis=0)\n",
    "df.loc[ : ,'Total por fila'] = df.sum(axis=1)\n",
    "\n",
    "\n",
    "df\n",
    "\n",
    "M =df[['a']].to_numpy()\n",
    "f=lambda x: x**2\n",
    "M=f(M)\n",
    "\n",
    "M=M.transpose()\n",
    "M=np.insert(M,3,0)\n",
    "df.loc[len(df)]=M\n",
    "M=M.transpose()\n",
    "df.loc[ : , 'Nueva Columna']=M\n",
    "\n"
   ]
  },
  {
   "cell_type": "code",
   "execution_count": null,
   "metadata": {},
   "outputs": [],
   "source": [
    "import pandas as pd\n",
    "import numpy as np\n",
    "df = pd.DataFrame({'a':[10,20],'b':[1,2], 'c': [2,4]})\n",
    "df.loc['Total por columna'] = df.sum(axis=0)\n",
    "df.loc[ : ,'Total por fila'] = df.sum(axis=1)\n",
    "\n",
    "\n",
    "df"
   ]
  }
 ],
 "metadata": {
  "kernelspec": {
   "display_name": "Python 3.10.7 64-bit",
   "language": "python",
   "name": "python3"
  },
  "language_info": {
   "codemirror_mode": {
    "name": "ipython",
    "version": 3
   },
   "file_extension": ".py",
   "mimetype": "text/x-python",
   "name": "python",
   "nbconvert_exporter": "python",
   "pygments_lexer": "ipython3",
   "version": "3.10.7"
  },
  "orig_nbformat": 4,
  "vscode": {
   "interpreter": {
    "hash": "66953ef1485e130ffcd4117c5ef2c4af32aa8fc80996e9f954c0fe3db82fe14e"
   }
  }
 },
 "nbformat": 4,
 "nbformat_minor": 2
}
